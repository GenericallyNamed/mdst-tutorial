{
 "cells": [
  {
   "cell_type": "markdown",
   "metadata": {},
   "source": [
    "<h1> Checkpoint:</h1>\n",
    "\n",
    "**Looking to see completetion and effort in completing the checkpoint. It's okay if it's not correct**\n",
    "\n",
    "Based off this dataset with school financial, enrollment, and achievement data, we are interested in what information is a useful indicator of student performance at the state level.\n",
    "\n",
    "This question is a bit too big for a checkpoint, however. Instead, we want you to look at smaller questions related to our overall goal. Here's the overview:\n",
    "\n",
    "1. Choose a specific test to focus on\n",
    ">Math/Reading for 4/8 grade\n",
    "* Pick or create features to use\n",
    ">Will all the features be useful in predicting test score? Are some more important than others? Should you standardize, bin, or scale the data?\n",
    "* Explore the data as it relates to that test\n",
    ">Create 2 well-labeled visualizations (graphs), each with a caption describing the graph and what it tells us about the data\n",
    "* Create training and testing data\n",
    ">Do you want to train on all the data? Only data from the last 10 years? Only Michigan data?\n",
    "* Train a ML model to predict outcome \n",
    ">Pick if you want to do a regression or classification task. For both cases, defined _exactly_ what you want to predict, and pick any model in sklearn to use (see sklearn <a href=\"https://scikit-learn.org/stable/modules/linear_model.html\">regressors</a> and <a href=\"https://scikit-learn.org/stable/auto_examples/classification/plot_classifier_comparison.html\">classifiers</a>).\n",
    "* Summarize your findings\n",
    ">Write a 1 paragraph summary of what you did and make a recommendation about if and how student performance can be predicted\n",
    "\n",
    "** Include comments throughout your code! Every cleanup and preprocessing task should be documented.\n",
    "\n",
    "\n",
    "Of course, if you're finding this assignment interesting (and we really hope you do!), you are welcome to do more than the requirements! For example, you may want to see if expenditure affects 4th graders more than 8th graders. Maybe you want to look into the extended version of this dataset and see how factors like sex and race are involved. You can include all your work in this notebook when you turn it in -- just always make sure you explain what you did and interpret your results. Good luck!"
   ]
  },
  {
   "cell_type": "markdown",
   "metadata": {},
   "source": [
    "<h2> Data Cleanup </h2>\n",
    "\n",
    "Import numpy, pandas, matplotlib, and seaborn\n",
    "\n",
    "(Feel free to import other libraries!)"
   ]
  },
  {
   "cell_type": "code",
   "execution_count": 1,
   "metadata": {},
   "outputs": [],
   "source": [
    "import pandas as pd\n",
    "import numpy as np\n",
    "import matplotlib.pyplot as plt"
   ]
  },
  {
   "cell_type": "markdown",
   "metadata": {},
   "source": [
    "Load in the \"states_edu.csv\" dataset and take a look at the head of the data"
   ]
  },
  {
   "cell_type": "code",
   "execution_count": 5,
   "metadata": {},
   "outputs": [
    {
     "data": {
      "text/html": [
       "<div>\n",
       "<style scoped>\n",
       "    .dataframe tbody tr th:only-of-type {\n",
       "        vertical-align: middle;\n",
       "    }\n",
       "\n",
       "    .dataframe tbody tr th {\n",
       "        vertical-align: top;\n",
       "    }\n",
       "\n",
       "    .dataframe thead th {\n",
       "        text-align: right;\n",
       "    }\n",
       "</style>\n",
       "<table border=\"1\" class=\"dataframe\">\n",
       "  <thead>\n",
       "    <tr style=\"text-align: right;\">\n",
       "      <th></th>\n",
       "      <th>PRIMARY_KEY</th>\n",
       "      <th>STATE</th>\n",
       "      <th>YEAR</th>\n",
       "      <th>ENROLL</th>\n",
       "      <th>TOTAL_REVENUE</th>\n",
       "      <th>FEDERAL_REVENUE</th>\n",
       "      <th>STATE_REVENUE</th>\n",
       "      <th>LOCAL_REVENUE</th>\n",
       "      <th>TOTAL_EXPENDITURE</th>\n",
       "      <th>INSTRUCTION_EXPENDITURE</th>\n",
       "      <th>...</th>\n",
       "      <th>GRADES_4_G</th>\n",
       "      <th>GRADES_8_G</th>\n",
       "      <th>GRADES_12_G</th>\n",
       "      <th>GRADES_1_8_G</th>\n",
       "      <th>GRADES_9_12_G</th>\n",
       "      <th>GRADES_ALL_G</th>\n",
       "      <th>AVG_MATH_4_SCORE</th>\n",
       "      <th>AVG_MATH_8_SCORE</th>\n",
       "      <th>AVG_READING_4_SCORE</th>\n",
       "      <th>AVG_READING_8_SCORE</th>\n",
       "    </tr>\n",
       "  </thead>\n",
       "  <tbody>\n",
       "    <tr>\n",
       "      <th>561</th>\n",
       "      <td>2003_ALABAMA</td>\n",
       "      <td>ALABAMA</td>\n",
       "      <td>2003</td>\n",
       "      <td>727900.0</td>\n",
       "      <td>5196054.0</td>\n",
       "      <td>567704.0</td>\n",
       "      <td>2966981.0</td>\n",
       "      <td>1661369.0</td>\n",
       "      <td>5298932.0</td>\n",
       "      <td>2817111.0</td>\n",
       "      <td>...</td>\n",
       "      <td>57323.0</td>\n",
       "      <td>59663.0</td>\n",
       "      <td>42005.0</td>\n",
       "      <td>466920.0</td>\n",
       "      <td>205907.0</td>\n",
       "      <td>731220.0</td>\n",
       "      <td>223.0</td>\n",
       "      <td>262.0</td>\n",
       "      <td>207.0</td>\n",
       "      <td>253.0</td>\n",
       "    </tr>\n",
       "    <tr>\n",
       "      <th>562</th>\n",
       "      <td>2003_ALASKA</td>\n",
       "      <td>ALASKA</td>\n",
       "      <td>2003</td>\n",
       "      <td>133303.0</td>\n",
       "      <td>1425948.0</td>\n",
       "      <td>259423.0</td>\n",
       "      <td>813371.0</td>\n",
       "      <td>353154.0</td>\n",
       "      <td>1610289.0</td>\n",
       "      <td>763525.0</td>\n",
       "      <td>...</td>\n",
       "      <td>10115.0</td>\n",
       "      <td>11140.0</td>\n",
       "      <td>8651.0</td>\n",
       "      <td>82337.0</td>\n",
       "      <td>40238.0</td>\n",
       "      <td>133933.0</td>\n",
       "      <td>233.0</td>\n",
       "      <td>279.0</td>\n",
       "      <td>212.0</td>\n",
       "      <td>256.0</td>\n",
       "    </tr>\n",
       "    <tr>\n",
       "      <th>563</th>\n",
       "      <td>2003_ARIZONA</td>\n",
       "      <td>ARIZONA</td>\n",
       "      <td>2003</td>\n",
       "      <td>875111.0</td>\n",
       "      <td>6529894.0</td>\n",
       "      <td>740579.0</td>\n",
       "      <td>2912629.0</td>\n",
       "      <td>2876686.0</td>\n",
       "      <td>6210287.0</td>\n",
       "      <td>2810907.0</td>\n",
       "      <td>...</td>\n",
       "      <td>76207.0</td>\n",
       "      <td>76376.0</td>\n",
       "      <td>68815.0</td>\n",
       "      <td>613442.0</td>\n",
       "      <td>307272.0</td>\n",
       "      <td>1012068.0</td>\n",
       "      <td>229.0</td>\n",
       "      <td>271.0</td>\n",
       "      <td>209.0</td>\n",
       "      <td>255.0</td>\n",
       "    </tr>\n",
       "    <tr>\n",
       "      <th>564</th>\n",
       "      <td>2003_ARKANSAS</td>\n",
       "      <td>ARKANSAS</td>\n",
       "      <td>2003</td>\n",
       "      <td>450158.0</td>\n",
       "      <td>3241275.0</td>\n",
       "      <td>379947.0</td>\n",
       "      <td>2394336.0</td>\n",
       "      <td>466992.0</td>\n",
       "      <td>3242799.0</td>\n",
       "      <td>1768713.0</td>\n",
       "      <td>...</td>\n",
       "      <td>34070.0</td>\n",
       "      <td>37004.0</td>\n",
       "      <td>28840.0</td>\n",
       "      <td>281834.0</td>\n",
       "      <td>132712.0</td>\n",
       "      <td>454523.0</td>\n",
       "      <td>229.0</td>\n",
       "      <td>266.0</td>\n",
       "      <td>214.0</td>\n",
       "      <td>258.0</td>\n",
       "    </tr>\n",
       "    <tr>\n",
       "      <th>565</th>\n",
       "      <td>2003_CALIFORNIA</td>\n",
       "      <td>CALIFORNIA</td>\n",
       "      <td>2003</td>\n",
       "      <td>6226552.0</td>\n",
       "      <td>59815855.0</td>\n",
       "      <td>5795655.0</td>\n",
       "      <td>33617766.0</td>\n",
       "      <td>20402434.0</td>\n",
       "      <td>59749885.0</td>\n",
       "      <td>29561563.0</td>\n",
       "      <td>...</td>\n",
       "      <td>493415.0</td>\n",
       "      <td>500143.0</td>\n",
       "      <td>395194.0</td>\n",
       "      <td>3929869.0</td>\n",
       "      <td>1854518.0</td>\n",
       "      <td>6413867.0</td>\n",
       "      <td>227.0</td>\n",
       "      <td>267.0</td>\n",
       "      <td>206.0</td>\n",
       "      <td>251.0</td>\n",
       "    </tr>\n",
       "  </tbody>\n",
       "</table>\n",
       "<p>5 rows × 25 columns</p>\n",
       "</div>"
      ],
      "text/plain": [
       "         PRIMARY_KEY       STATE  YEAR     ENROLL  TOTAL_REVENUE  \\\n",
       "561     2003_ALABAMA     ALABAMA  2003   727900.0      5196054.0   \n",
       "562      2003_ALASKA      ALASKA  2003   133303.0      1425948.0   \n",
       "563     2003_ARIZONA     ARIZONA  2003   875111.0      6529894.0   \n",
       "564    2003_ARKANSAS    ARKANSAS  2003   450158.0      3241275.0   \n",
       "565  2003_CALIFORNIA  CALIFORNIA  2003  6226552.0     59815855.0   \n",
       "\n",
       "     FEDERAL_REVENUE  STATE_REVENUE  LOCAL_REVENUE  TOTAL_EXPENDITURE  \\\n",
       "561         567704.0      2966981.0      1661369.0          5298932.0   \n",
       "562         259423.0       813371.0       353154.0          1610289.0   \n",
       "563         740579.0      2912629.0      2876686.0          6210287.0   \n",
       "564         379947.0      2394336.0       466992.0          3242799.0   \n",
       "565        5795655.0     33617766.0     20402434.0         59749885.0   \n",
       "\n",
       "     INSTRUCTION_EXPENDITURE  ...  GRADES_4_G  GRADES_8_G  GRADES_12_G  \\\n",
       "561                2817111.0  ...     57323.0     59663.0      42005.0   \n",
       "562                 763525.0  ...     10115.0     11140.0       8651.0   \n",
       "563                2810907.0  ...     76207.0     76376.0      68815.0   \n",
       "564                1768713.0  ...     34070.0     37004.0      28840.0   \n",
       "565               29561563.0  ...    493415.0    500143.0     395194.0   \n",
       "\n",
       "     GRADES_1_8_G  GRADES_9_12_G  GRADES_ALL_G  AVG_MATH_4_SCORE  \\\n",
       "561      466920.0       205907.0      731220.0             223.0   \n",
       "562       82337.0        40238.0      133933.0             233.0   \n",
       "563      613442.0       307272.0     1012068.0             229.0   \n",
       "564      281834.0       132712.0      454523.0             229.0   \n",
       "565     3929869.0      1854518.0     6413867.0             227.0   \n",
       "\n",
       "     AVG_MATH_8_SCORE  AVG_READING_4_SCORE  AVG_READING_8_SCORE  \n",
       "561             262.0                207.0                253.0  \n",
       "562             279.0                212.0                256.0  \n",
       "563             271.0                209.0                255.0  \n",
       "564             266.0                214.0                258.0  \n",
       "565             267.0                206.0                251.0  \n",
       "\n",
       "[5 rows x 25 columns]"
      ]
     },
     "execution_count": 5,
     "metadata": {},
     "output_type": "execute_result"
    }
   ],
   "source": [
    "df = pd.read_csv('../data/states_edu.csv')\n",
    "df.shape\n",
    "df = df.dropna()\n",
    "df.head()\n"
   ]
  },
  {
   "cell_type": "markdown",
   "metadata": {},
   "source": [
    "You should always familiarize yourself with what each column in the dataframe represents. \\ Read about the states_edu dataset here: https://www.kaggle.com/noriuk/us-education-datasets-unification-project"
   ]
  },
  {
   "cell_type": "markdown",
   "metadata": {},
   "source": [
    "Use this space to rename columns, deal with missing data, etc. _(optional)_"
   ]
  },
  {
   "cell_type": "code",
   "execution_count": null,
   "metadata": {},
   "outputs": [],
   "source": []
  },
  {
   "cell_type": "markdown",
   "metadata": {},
   "source": [
    "<h2>Exploratory Data Analysis (EDA) </h2>"
   ]
  },
  {
   "cell_type": "markdown",
   "metadata": {},
   "source": [
    "Chosen Outcome Variable for Test: **<Math for 4 grade>**   (Ex. Math for 8th grade)\n",
    "\n",
    "**(hit `Enter` to edit)**\n",
    "\n",
    "Outcome Score in the questions refers to the outcome variable you chose here."
   ]
  },
  {
   "cell_type": "markdown",
   "metadata": {},
   "source": [
    "How many different years of data are in our dataset? Use a pandas function."
   ]
  },
  {
   "cell_type": "code",
   "execution_count": 6,
   "metadata": {},
   "outputs": [
    {
     "data": {
      "text/plain": [
       "7"
      ]
     },
     "execution_count": 6,
     "metadata": {},
     "output_type": "execute_result"
    }
   ],
   "source": [
    "df.YEAR.nunique()"
   ]
  },
  {
   "cell_type": "markdown",
   "metadata": {},
   "source": [
    "Let's compare Michigan to Ohio. Which state has the higher average outcome score across all years?"
   ]
  },
  {
   "cell_type": "code",
   "execution_count": 7,
   "metadata": {},
   "outputs": [
    {
     "data": {
      "text/plain": [
       "596     282.0\n",
       "698     283.0\n",
       "800     285.0\n",
       "902     286.0\n",
       "1004    289.0\n",
       "1106    290.0\n",
       "1208    285.0\n",
       "Name: AVG_MATH_8_SCORE, dtype: float64"
      ]
     },
     "execution_count": 7,
     "metadata": {},
     "output_type": "execute_result"
    }
   ],
   "source": [
    "is_ohio = df.STATE == \"OHIO\"\n",
    "is_michigan = df.STATE == \"MICHIGAN\"\n",
    "ohio = df.AVG_MATH_8_SCORE[is_ohio]\n",
    "michigan = df.AVG_MATH_8_SCORE[is_michigan]\n",
    "ohio = ohio.dropna()\n",
    "michigan = michigan.dropna()\n",
    "len(ohio)\n",
    "len(michigan)\n",
    "ohio\n"
   ]
  },
  {
   "cell_type": "markdown",
   "metadata": {},
   "source": [
    "Find the average for your outcome score across all states in 2019"
   ]
  },
  {
   "cell_type": "code",
   "execution_count": 8,
   "metadata": {},
   "outputs": [
    {
     "data": {
      "text/plain": [
       "238.93521126760564"
      ]
     },
     "execution_count": 8,
     "metadata": {},
     "output_type": "execute_result"
    }
   ],
   "source": [
    "math_4 = df.AVG_MATH_4_SCORE.dropna()\n",
    "sum(math_4) / len(math_4)"
   ]
  },
  {
   "cell_type": "markdown",
   "metadata": {},
   "source": [
    "Find the maximum outcome score for every state. Hint: there's a function that allows you to do this easily"
   ]
  },
  {
   "cell_type": "code",
   "execution_count": null,
   "metadata": {},
   "outputs": [],
   "source": []
  },
  {
   "cell_type": "markdown",
   "metadata": {},
   "source": [
    "<h2> Feature Selection </h2>\n",
    "\n",
    "After exploring the data, you now have to choose features that you would use to predict the performance of the students on a chosen test (chosen outcome variable). By the way, you can also create your own features. For example, perhaps you figured that maybe a state's expenditure per student may affect their overall academic performance so you create a expenditure_per_student feature.\n",
    "\n",
    "Use this space to modify or create features"
   ]
  },
  {
   "cell_type": "code",
   "execution_count": 9,
   "metadata": {},
   "outputs": [
    {
     "data": {
      "text/html": [
       "<div>\n",
       "<style scoped>\n",
       "    .dataframe tbody tr th:only-of-type {\n",
       "        vertical-align: middle;\n",
       "    }\n",
       "\n",
       "    .dataframe tbody tr th {\n",
       "        vertical-align: top;\n",
       "    }\n",
       "\n",
       "    .dataframe thead th {\n",
       "        text-align: right;\n",
       "    }\n",
       "</style>\n",
       "<table border=\"1\" class=\"dataframe\">\n",
       "  <thead>\n",
       "    <tr style=\"text-align: right;\">\n",
       "      <th></th>\n",
       "      <th>PRIMARY_KEY</th>\n",
       "      <th>STATE</th>\n",
       "      <th>YEAR</th>\n",
       "      <th>ENROLL</th>\n",
       "      <th>TOTAL_REVENUE</th>\n",
       "      <th>FEDERAL_REVENUE</th>\n",
       "      <th>STATE_REVENUE</th>\n",
       "      <th>LOCAL_REVENUE</th>\n",
       "      <th>TOTAL_EXPENDITURE</th>\n",
       "      <th>INSTRUCTION_EXPENDITURE</th>\n",
       "      <th>...</th>\n",
       "      <th>GRADES_8_G</th>\n",
       "      <th>GRADES_12_G</th>\n",
       "      <th>GRADES_1_8_G</th>\n",
       "      <th>GRADES_9_12_G</th>\n",
       "      <th>GRADES_ALL_G</th>\n",
       "      <th>AVG_MATH_4_SCORE</th>\n",
       "      <th>AVG_MATH_8_SCORE</th>\n",
       "      <th>AVG_READING_4_SCORE</th>\n",
       "      <th>AVG_READING_8_SCORE</th>\n",
       "      <th>REVENUE_PER_STUDENT</th>\n",
       "    </tr>\n",
       "  </thead>\n",
       "  <tbody>\n",
       "    <tr>\n",
       "      <th>561</th>\n",
       "      <td>2003_ALABAMA</td>\n",
       "      <td>ALABAMA</td>\n",
       "      <td>2003</td>\n",
       "      <td>727900.0</td>\n",
       "      <td>5196054.0</td>\n",
       "      <td>567704.0</td>\n",
       "      <td>2966981.0</td>\n",
       "      <td>1661369.0</td>\n",
       "      <td>5298932.0</td>\n",
       "      <td>2817111.0</td>\n",
       "      <td>...</td>\n",
       "      <td>59663.0</td>\n",
       "      <td>42005.0</td>\n",
       "      <td>466920.0</td>\n",
       "      <td>205907.0</td>\n",
       "      <td>731220.0</td>\n",
       "      <td>223.0</td>\n",
       "      <td>262.0</td>\n",
       "      <td>207.0</td>\n",
       "      <td>253.0</td>\n",
       "      <td>7.106006</td>\n",
       "    </tr>\n",
       "    <tr>\n",
       "      <th>562</th>\n",
       "      <td>2003_ALASKA</td>\n",
       "      <td>ALASKA</td>\n",
       "      <td>2003</td>\n",
       "      <td>133303.0</td>\n",
       "      <td>1425948.0</td>\n",
       "      <td>259423.0</td>\n",
       "      <td>813371.0</td>\n",
       "      <td>353154.0</td>\n",
       "      <td>1610289.0</td>\n",
       "      <td>763525.0</td>\n",
       "      <td>...</td>\n",
       "      <td>11140.0</td>\n",
       "      <td>8651.0</td>\n",
       "      <td>82337.0</td>\n",
       "      <td>40238.0</td>\n",
       "      <td>133933.0</td>\n",
       "      <td>233.0</td>\n",
       "      <td>279.0</td>\n",
       "      <td>212.0</td>\n",
       "      <td>256.0</td>\n",
       "      <td>10.646726</td>\n",
       "    </tr>\n",
       "    <tr>\n",
       "      <th>563</th>\n",
       "      <td>2003_ARIZONA</td>\n",
       "      <td>ARIZONA</td>\n",
       "      <td>2003</td>\n",
       "      <td>875111.0</td>\n",
       "      <td>6529894.0</td>\n",
       "      <td>740579.0</td>\n",
       "      <td>2912629.0</td>\n",
       "      <td>2876686.0</td>\n",
       "      <td>6210287.0</td>\n",
       "      <td>2810907.0</td>\n",
       "      <td>...</td>\n",
       "      <td>76376.0</td>\n",
       "      <td>68815.0</td>\n",
       "      <td>613442.0</td>\n",
       "      <td>307272.0</td>\n",
       "      <td>1012068.0</td>\n",
       "      <td>229.0</td>\n",
       "      <td>271.0</td>\n",
       "      <td>209.0</td>\n",
       "      <td>255.0</td>\n",
       "      <td>6.452031</td>\n",
       "    </tr>\n",
       "    <tr>\n",
       "      <th>564</th>\n",
       "      <td>2003_ARKANSAS</td>\n",
       "      <td>ARKANSAS</td>\n",
       "      <td>2003</td>\n",
       "      <td>450158.0</td>\n",
       "      <td>3241275.0</td>\n",
       "      <td>379947.0</td>\n",
       "      <td>2394336.0</td>\n",
       "      <td>466992.0</td>\n",
       "      <td>3242799.0</td>\n",
       "      <td>1768713.0</td>\n",
       "      <td>...</td>\n",
       "      <td>37004.0</td>\n",
       "      <td>28840.0</td>\n",
       "      <td>281834.0</td>\n",
       "      <td>132712.0</td>\n",
       "      <td>454523.0</td>\n",
       "      <td>229.0</td>\n",
       "      <td>266.0</td>\n",
       "      <td>214.0</td>\n",
       "      <td>258.0</td>\n",
       "      <td>7.131157</td>\n",
       "    </tr>\n",
       "    <tr>\n",
       "      <th>565</th>\n",
       "      <td>2003_CALIFORNIA</td>\n",
       "      <td>CALIFORNIA</td>\n",
       "      <td>2003</td>\n",
       "      <td>6226552.0</td>\n",
       "      <td>59815855.0</td>\n",
       "      <td>5795655.0</td>\n",
       "      <td>33617766.0</td>\n",
       "      <td>20402434.0</td>\n",
       "      <td>59749885.0</td>\n",
       "      <td>29561563.0</td>\n",
       "      <td>...</td>\n",
       "      <td>500143.0</td>\n",
       "      <td>395194.0</td>\n",
       "      <td>3929869.0</td>\n",
       "      <td>1854518.0</td>\n",
       "      <td>6413867.0</td>\n",
       "      <td>227.0</td>\n",
       "      <td>267.0</td>\n",
       "      <td>206.0</td>\n",
       "      <td>251.0</td>\n",
       "      <td>9.326020</td>\n",
       "    </tr>\n",
       "  </tbody>\n",
       "</table>\n",
       "<p>5 rows × 26 columns</p>\n",
       "</div>"
      ],
      "text/plain": [
       "         PRIMARY_KEY       STATE  YEAR     ENROLL  TOTAL_REVENUE  \\\n",
       "561     2003_ALABAMA     ALABAMA  2003   727900.0      5196054.0   \n",
       "562      2003_ALASKA      ALASKA  2003   133303.0      1425948.0   \n",
       "563     2003_ARIZONA     ARIZONA  2003   875111.0      6529894.0   \n",
       "564    2003_ARKANSAS    ARKANSAS  2003   450158.0      3241275.0   \n",
       "565  2003_CALIFORNIA  CALIFORNIA  2003  6226552.0     59815855.0   \n",
       "\n",
       "     FEDERAL_REVENUE  STATE_REVENUE  LOCAL_REVENUE  TOTAL_EXPENDITURE  \\\n",
       "561         567704.0      2966981.0      1661369.0          5298932.0   \n",
       "562         259423.0       813371.0       353154.0          1610289.0   \n",
       "563         740579.0      2912629.0      2876686.0          6210287.0   \n",
       "564         379947.0      2394336.0       466992.0          3242799.0   \n",
       "565        5795655.0     33617766.0     20402434.0         59749885.0   \n",
       "\n",
       "     INSTRUCTION_EXPENDITURE  ...  GRADES_8_G  GRADES_12_G  GRADES_1_8_G  \\\n",
       "561                2817111.0  ...     59663.0      42005.0      466920.0   \n",
       "562                 763525.0  ...     11140.0       8651.0       82337.0   \n",
       "563                2810907.0  ...     76376.0      68815.0      613442.0   \n",
       "564                1768713.0  ...     37004.0      28840.0      281834.0   \n",
       "565               29561563.0  ...    500143.0     395194.0     3929869.0   \n",
       "\n",
       "     GRADES_9_12_G  GRADES_ALL_G  AVG_MATH_4_SCORE  AVG_MATH_8_SCORE  \\\n",
       "561       205907.0      731220.0             223.0             262.0   \n",
       "562        40238.0      133933.0             233.0             279.0   \n",
       "563       307272.0     1012068.0             229.0             271.0   \n",
       "564       132712.0      454523.0             229.0             266.0   \n",
       "565      1854518.0     6413867.0             227.0             267.0   \n",
       "\n",
       "     AVG_READING_4_SCORE  AVG_READING_8_SCORE  REVENUE_PER_STUDENT  \n",
       "561                207.0                253.0             7.106006  \n",
       "562                212.0                256.0            10.646726  \n",
       "563                209.0                255.0             6.452031  \n",
       "564                214.0                258.0             7.131157  \n",
       "565                206.0                251.0             9.326020  \n",
       "\n",
       "[5 rows x 26 columns]"
      ]
     },
     "execution_count": 9,
     "metadata": {},
     "output_type": "execute_result"
    }
   ],
   "source": [
    "df.head()\n",
    "t = (df.TOTAL_REVENUE) / (df.GRADES_ALL_G)\n",
    "df['REVENUE_PER_STUDENT'] = t\n",
    "df.head()"
   ]
  },
  {
   "cell_type": "markdown",
   "metadata": {},
   "source": [
    "Final feature list: **<Expenditure per student, Year, Average Grade 4 Math Scores\\>**"
   ]
  },
  {
   "cell_type": "markdown",
   "metadata": {},
   "source": [
    "Feature selection justification: **I think it is an interesting question to consider how specifically the amount of funding per student affects the performance of students in school. The average grade 4 math scores was an arbitrarily chosen metric for measuring the performance of students in school. Obama **"
   ]
  },
  {
   "cell_type": "markdown",
   "metadata": {},
   "source": [
    "<h2>Visualization</h2>\n",
    "\n",
    "Use any graph you wish to see the relationship of your chosen outcome variable with any features you chose\n",
    "\n",
    "**Visualization 1**"
   ]
  },
  {
   "cell_type": "code",
   "execution_count": 10,
   "metadata": {},
   "outputs": [
    {
     "data": {
      "text/plain": [
       "Text(0.5, 1.0, 'funding per student vs performance in grade 4 math')"
      ]
     },
     "execution_count": 10,
     "metadata": {},
     "output_type": "execute_result"
    },
    {
     "data": {
      "image/png": "[encoded data removed]",
      "text/plain": [
       "<Figure size 432x288 with 1 Axes>"
      ]
     },
     "metadata": {
      "needs_background": "light"
     },
     "output_type": "display_data"
    }
   ],
   "source": [
    "plt.scatter((df.TOTAL_REVENUE) / (df.GRADES_ALL_G), df.AVG_MATH_4_SCORE)\n",
    "plt.xlabel(\"revenue per student\")\n",
    "plt.ylabel(\"average grade 4 math scores\")\n",
    "plt.title(\"funding per student vs performance in grade 4 math\")"
   ]
  },
  {
   "cell_type": "markdown",
   "metadata": {},
   "source": [
    "**This chart visualizes the relationship between the total funding available per student and their overall performance in grade 4 math.**"
   ]
  },
  {
   "cell_type": "markdown",
   "metadata": {},
   "source": [
    "**Visualization 2**"
   ]
  },
  {
   "cell_type": "code",
   "execution_count": 21,
   "metadata": {},
   "outputs": [
    {
     "data": {
      "text/plain": [
       "Text(0.5, 1.0, 'local revenue vs grade 4 math scores')"
      ]
     },
     "execution_count": 21,
     "metadata": {},
     "output_type": "execute_result"
    },
    {
     "data": {
      "image/png": "[encoded data removed]",
      "text/plain": [
       "<Figure size 432x288 with 1 Axes>"
      ]
     },
     "metadata": {
      "needs_background": "light"
     },
     "output_type": "display_data"
    }
   ],
   "source": [
    "plt.scatter((df.LOCAL_REVENUE) / (df.GRADES_ALL_G), df.AVG_MATH_4_SCORE)\n",
    "plt.xlabel(\"local revenue per student\")\n",
    "plt.ylabel(\"average grade 4 math scores\")\n",
    "plt.title(\"local revenue vs grade 4 math scores\")"
   ]
  },
  {
   "cell_type": "markdown",
   "metadata": {},
   "source": [
    "**This chart is slightly different from the previous. Instead of total revenue, I looked at a measure of local revenue per student, which I assumed could be a good measure of whether the wealth of individual communities could correlate with student performance. Of course, this is a state-level metric, but I wondered if perhaps this could reveal any patterns about how the way local governments fund schools can have an impact. In this case, the impact is measured in grade 4 math scores.**"
   ]
  },
  {
   "cell_type": "markdown",
   "metadata": {},
   "source": [
    "<h2> Data Creation </h2>\n",
    "\n",
    "_Use this space to create train/test data_"
   ]
  },
  {
   "cell_type": "code",
   "execution_count": 12,
   "metadata": {},
   "outputs": [],
   "source": [
    "from sklearn.model_selection import train_test_split"
   ]
  },
  {
   "cell_type": "code",
   "execution_count": 13,
   "metadata": {},
   "outputs": [],
   "source": [
    "X = df[['YEAR','REVENUE_PER_STUDENT']].dropna()\n",
    "y = df.loc[X.index]['AVG_MATH_4_SCORE']"
   ]
  },
  {
   "cell_type": "code",
   "execution_count": 14,
   "metadata": {},
   "outputs": [],
   "source": [
    "X_train, X_test, y_train, y_test = train_test_split(\n",
    "     X, y, test_size=.3, random_state=0)"
   ]
  },
  {
   "cell_type": "markdown",
   "metadata": {},
   "source": [
    "<h2> Prediction </h2>"
   ]
  },
  {
   "cell_type": "markdown",
   "metadata": {},
   "source": [
    "ML Models Resource: https://medium.com/@vijaya.beeravalli/comparison-of-machine-learning-classification-models-for-credit-card-default-data-c3cf805c9a5a"
   ]
  },
  {
   "cell_type": "markdown",
   "metadata": {},
   "source": [
    "Chosen ML task: **REGRESSION**"
   ]
  },
  {
   "cell_type": "code",
   "execution_count": 15,
   "metadata": {},
   "outputs": [],
   "source": [
    "# import your sklearn class here"
   ]
  },
  {
   "cell_type": "code",
   "execution_count": 16,
   "metadata": {},
   "outputs": [],
   "source": [
    "# create your model here\n",
    "from sklearn.linear_model import LinearRegression\n",
    "model = LinearRegression()"
   ]
  },
  {
   "cell_type": "code",
   "execution_count": 17,
   "metadata": {},
   "outputs": [
    {
     "data": {
      "text/plain": [
       "LinearRegression()"
      ]
     },
     "execution_count": 17,
     "metadata": {},
     "output_type": "execute_result"
    }
   ],
   "source": [
    "model.fit(X_train, y_train)"
   ]
  },
  {
   "cell_type": "code",
   "execution_count": 18,
   "metadata": {},
   "outputs": [],
   "source": [
    "y_pred = model.predict(X_test)"
   ]
  },
  {
   "cell_type": "code",
   "execution_count": 19,
   "metadata": {},
   "outputs": [
    {
     "name": "stderr",
     "output_type": "stream",
     "text": [
      "/home/alex/.local/lib/python3.8/site-packages/sklearn/utils/deprecation.py:87: FutureWarning: Function plot_confusion_matrix is deprecated; Function `plot_confusion_matrix` is deprecated in 1.0 and will be removed in 1.2. Use one of the class methods: ConfusionMatrixDisplay.from_predictions or ConfusionMatrixDisplay.from_estimator.\n",
      "  warnings.warn(msg, category=FutureWarning)\n"
     ]
    },
    {
     "ename": "ValueError",
     "evalue": "plot_confusion_matrix only supports classifiers",
     "output_type": "error",
     "traceback": [
      "\u001b[0;31m---------------------------------------------------------------------------\u001b[0m",
      "\u001b[0;31mValueError\u001b[0m                                Traceback (most recent call last)",
      "Input \u001b[0;32mIn [19]\u001b[0m, in \u001b[0;36m<module>\u001b[0;34m\u001b[0m\n\u001b[1;32m      1\u001b[0m \u001b[38;5;66;03m# FOR CLASSIFICATION ONLY:\u001b[39;00m\n\u001b[1;32m      2\u001b[0m \u001b[38;5;28;01mfrom\u001b[39;00m \u001b[38;5;21;01msklearn\u001b[39;00m\u001b[38;5;21;01m.\u001b[39;00m\u001b[38;5;21;01mmetrics\u001b[39;00m \u001b[38;5;28;01mimport\u001b[39;00m plot_confusion_matrix\n\u001b[0;32m----> 4\u001b[0m \u001b[43mplot_confusion_matrix\u001b[49m\u001b[43m(\u001b[49m\u001b[43mmodel\u001b[49m\u001b[43m,\u001b[49m\u001b[43m \u001b[49m\u001b[43mX_test\u001b[49m\u001b[43m,\u001b[49m\u001b[43m \u001b[49m\u001b[43my_test\u001b[49m\u001b[43m,\u001b[49m\n\u001b[1;32m      5\u001b[0m \u001b[43m                         \u001b[49m\u001b[43mcmap\u001b[49m\u001b[38;5;241;43m=\u001b[39;49m\u001b[43mplt\u001b[49m\u001b[38;5;241;43m.\u001b[39;49m\u001b[43mcm\u001b[49m\u001b[38;5;241;43m.\u001b[39;49m\u001b[43mBlues\u001b[49m\u001b[43m)\u001b[49m\n",
      "File \u001b[0;32m~/.local/lib/python3.8/site-packages/sklearn/utils/deprecation.py:88\u001b[0m, in \u001b[0;36mdeprecated._decorate_fun.<locals>.wrapped\u001b[0;34m(*args, **kwargs)\u001b[0m\n\u001b[1;32m     85\u001b[0m \u001b[38;5;129m@functools\u001b[39m\u001b[38;5;241m.\u001b[39mwraps(fun)\n\u001b[1;32m     86\u001b[0m \u001b[38;5;28;01mdef\u001b[39;00m \u001b[38;5;21mwrapped\u001b[39m(\u001b[38;5;241m*\u001b[39margs, \u001b[38;5;241m*\u001b[39m\u001b[38;5;241m*\u001b[39mkwargs):\n\u001b[1;32m     87\u001b[0m     warnings\u001b[38;5;241m.\u001b[39mwarn(msg, category\u001b[38;5;241m=\u001b[39m\u001b[38;5;167;01mFutureWarning\u001b[39;00m)\n\u001b[0;32m---> 88\u001b[0m     \u001b[38;5;28;01mreturn\u001b[39;00m \u001b[43mfun\u001b[49m\u001b[43m(\u001b[49m\u001b[38;5;241;43m*\u001b[39;49m\u001b[43margs\u001b[49m\u001b[43m,\u001b[49m\u001b[43m \u001b[49m\u001b[38;5;241;43m*\u001b[39;49m\u001b[38;5;241;43m*\u001b[39;49m\u001b[43mkwargs\u001b[49m\u001b[43m)\u001b[49m\n",
      "File \u001b[0;32m~/.local/lib/python3.8/site-packages/sklearn/metrics/_plot/confusion_matrix.py:563\u001b[0m, in \u001b[0;36mplot_confusion_matrix\u001b[0;34m(estimator, X, y_true, labels, sample_weight, normalize, display_labels, include_values, xticks_rotation, values_format, cmap, ax, colorbar)\u001b[0m\n\u001b[1;32m    560\u001b[0m check_matplotlib_support(\u001b[38;5;124m\"\u001b[39m\u001b[38;5;124mplot_confusion_matrix\u001b[39m\u001b[38;5;124m\"\u001b[39m)\n\u001b[1;32m    562\u001b[0m \u001b[38;5;28;01mif\u001b[39;00m \u001b[38;5;129;01mnot\u001b[39;00m is_classifier(estimator):\n\u001b[0;32m--> 563\u001b[0m     \u001b[38;5;28;01mraise\u001b[39;00m \u001b[38;5;167;01mValueError\u001b[39;00m(\u001b[38;5;124m\"\u001b[39m\u001b[38;5;124mplot_confusion_matrix only supports classifiers\u001b[39m\u001b[38;5;124m\"\u001b[39m)\n\u001b[1;32m    565\u001b[0m y_pred \u001b[38;5;241m=\u001b[39m estimator\u001b[38;5;241m.\u001b[39mpredict(X)\n\u001b[1;32m    566\u001b[0m cm \u001b[38;5;241m=\u001b[39m confusion_matrix(\n\u001b[1;32m    567\u001b[0m     y_true, y_pred, sample_weight\u001b[38;5;241m=\u001b[39msample_weight, labels\u001b[38;5;241m=\u001b[39mlabels, normalize\u001b[38;5;241m=\u001b[39mnormalize\n\u001b[1;32m    568\u001b[0m )\n",
      "\u001b[0;31mValueError\u001b[0m: plot_confusion_matrix only supports classifiers"
     ]
    }
   ],
   "source": [
    "# FOR CLASSIFICATION ONLY:\n",
    "from sklearn.metrics import plot_confusion_matrix\n",
    "\n",
    "plot_confusion_matrix(model, X_test, y_test,\n",
    "                         cmap=plt.cm.Blues)"
   ]
  },
  {
   "cell_type": "code",
   "execution_count": 20,
   "metadata": {},
   "outputs": [
    {
     "name": "stderr",
     "output_type": "stream",
     "text": [
      "/home/alex/.local/lib/python3.8/site-packages/sklearn/base.py:450: UserWarning: X does not have valid feature names, but LinearRegression was fitted with feature names\n",
      "  warnings.warn(\n"
     ]
    },
    {
     "data": {
      "text/plain": [
       "Text(0, 0.5, 'Average grade 4 math scores')"
      ]
     },
     "execution_count": 20,
     "metadata": {},
     "output_type": "execute_result"
    },
    {
     "data": {
      "image/png": "[encoded data removed]",
      "text/plain": [
       "<Figure size 864x432 with 1 Axes>"
      ]
     },
     "metadata": {
      "needs_background": "light"
     },
     "output_type": "display_data"
    }
   ],
   "source": [
    "# FOR REGRESSION ONLY: (pick a single column to visualize results)\n",
    "\n",
    "# Results from this graph _should not_ be used as a part of your results -- it is just here to help with intuition. \n",
    "# Instead, look at the error values and individual intercepts.\n",
    "\n",
    "\n",
    "col_name = 'REVENUE_PER_STUDENT'\n",
    "col_index = X_train.columns.get_loc(col_name)\n",
    "col_index = 1\n",
    "\n",
    "f = plt.figure(figsize=(12,6))\n",
    "plt.scatter(X_train[col_name], y_train, color = \"red\")\n",
    "plt.scatter(X_train[col_name], model.predict(X_train), color = \"green\")\n",
    "plt.scatter(X_test[col_name], model.predict(X_test), color = \"blue\")\n",
    "\n",
    "new_x = np.linspace(X_train[col_name].min(),X_train[col_name].max(),200)\n",
    "intercept = model.predict([X_train.sort_values(col_name).iloc[0]]) - X_train[col_name].min()*model.coef_[col_index]\n",
    "plt.plot(new_x, intercept+new_x*model.coef_[col_index])\n",
    "\n",
    "plt.legend(['controlled model','true training','predicted training','predicted testing'])\n",
    "plt.xlabel(col_name)\n",
    "plt.ylabel(\"Average grade 4 math scores\")"
   ]
  },
  {
   "cell_type": "markdown",
   "metadata": {},
   "source": [
    "<h2> Summary </h2>"
   ]
  },
  {
   "cell_type": "markdown",
   "metadata": {},
   "source": [
    "**I used the linear regression model to generate a visualization of the relationship between revenue per student for education and student performance in grade 4 math. Although this was what I presumed would be the case, the graph did demonstrate that there is generally a positive relationship between the amount of funding available per student and their performance, at least in grade 4 math scores. **"
   ]
  }
 ],
 "metadata": {
  "kernelspec": {
   "display_name": "Python 3 (ipykernel)",
   "language": "python",
   "name": "python3"
  },
  "language_info": {
   "codemirror_mode": {
    "name": "ipython",
    "version": 3
   },
   "file_extension": ".py",
   "mimetype": "text/x-python",
   "name": "python",
   "nbconvert_exporter": "python",
   "pygments_lexer": "ipython3",
   "version": "3.8.10"
  }
 },
 "nbformat": 4,
 "nbformat_minor": 4
}
